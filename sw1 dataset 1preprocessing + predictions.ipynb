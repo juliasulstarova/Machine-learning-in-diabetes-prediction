{
 "cells": [
  {
   "cell_type": "code",
   "execution_count": 1,
   "metadata": {},
   "outputs": [],
   "source": [
    "import pandas as pd\n",
    "import numpy as np\n",
    "import seaborn as sns\n",
    "import matplotlib.pyplot as plt\n",
    "from pandas.plotting import scatter_matrix\n",
    "\n",
    "from numpy import mean\n",
    "from numpy import std\n",
    "from pandas import read_csv\n",
    "from sklearn.ensemble import RandomForestClassifier\n",
    "from sklearn.impute import SimpleImputer\n",
    "from sklearn.impute import KNNImputer\n",
    "from sklearn.model_selection import cross_val_score\n",
    "from sklearn.model_selection import RepeatedStratifiedKFold\n",
    "from sklearn.pipeline import Pipeline\n",
    "from matplotlib import pyplot\n",
    "\n",
    "from sklearn.model_selection import train_test_split\n",
    "\n",
    "from sklearn.linear_model import LogisticRegression\n",
    "from sklearn.svm import SVC\n",
    "from sklearn.neighbors import KNeighborsClassifier\n",
    "from sklearn.tree import DecisionTreeClassifier\n",
    "from sklearn.ensemble import RandomForestClassifier\n",
    "from sklearn.naive_bayes import GaussianNB\n",
    "from xgboost.sklearn import XGBClassifier\n",
    "from sklearn.metrics import classification_report, roc_auc_score, confusion_matrix, accuracy_score, recall_score, precision_recall_fscore_support, f1_score\n",
    "from scipy.stats import uniform\n",
    "from sklearn.model_selection import RandomizedSearchCV, GridSearchCV\n",
    "from sklearn.model_selection import cross_validate\n",
    "from sklearn.model_selection import train_test_split"
   ]
  },
  {
   "cell_type": "code",
   "execution_count": 2,
   "metadata": {},
   "outputs": [
    {
     "data": {
      "text/html": [
       "<div>\n",
       "<style scoped>\n",
       "    .dataframe tbody tr th:only-of-type {\n",
       "        vertical-align: middle;\n",
       "    }\n",
       "\n",
       "    .dataframe tbody tr th {\n",
       "        vertical-align: top;\n",
       "    }\n",
       "\n",
       "    .dataframe thead th {\n",
       "        text-align: right;\n",
       "    }\n",
       "</style>\n",
       "<table border=\"1\" class=\"dataframe\">\n",
       "  <thead>\n",
       "    <tr style=\"text-align: right;\">\n",
       "      <th></th>\n",
       "      <th>Pregnancies</th>\n",
       "      <th>Glucose</th>\n",
       "      <th>BloodPressure</th>\n",
       "      <th>SkinThickness</th>\n",
       "      <th>Insulin</th>\n",
       "      <th>BMI</th>\n",
       "      <th>DiabetesPedigreeFunction</th>\n",
       "      <th>Age</th>\n",
       "      <th>Outcome</th>\n",
       "    </tr>\n",
       "  </thead>\n",
       "  <tbody>\n",
       "    <tr>\n",
       "      <th>0</th>\n",
       "      <td>6</td>\n",
       "      <td>148</td>\n",
       "      <td>72</td>\n",
       "      <td>35</td>\n",
       "      <td>0</td>\n",
       "      <td>33.6</td>\n",
       "      <td>0.627</td>\n",
       "      <td>50</td>\n",
       "      <td>1</td>\n",
       "    </tr>\n",
       "    <tr>\n",
       "      <th>1</th>\n",
       "      <td>1</td>\n",
       "      <td>85</td>\n",
       "      <td>66</td>\n",
       "      <td>29</td>\n",
       "      <td>0</td>\n",
       "      <td>26.6</td>\n",
       "      <td>0.351</td>\n",
       "      <td>31</td>\n",
       "      <td>0</td>\n",
       "    </tr>\n",
       "    <tr>\n",
       "      <th>2</th>\n",
       "      <td>8</td>\n",
       "      <td>183</td>\n",
       "      <td>64</td>\n",
       "      <td>0</td>\n",
       "      <td>0</td>\n",
       "      <td>23.3</td>\n",
       "      <td>0.672</td>\n",
       "      <td>32</td>\n",
       "      <td>1</td>\n",
       "    </tr>\n",
       "    <tr>\n",
       "      <th>3</th>\n",
       "      <td>1</td>\n",
       "      <td>89</td>\n",
       "      <td>66</td>\n",
       "      <td>23</td>\n",
       "      <td>94</td>\n",
       "      <td>28.1</td>\n",
       "      <td>0.167</td>\n",
       "      <td>21</td>\n",
       "      <td>0</td>\n",
       "    </tr>\n",
       "    <tr>\n",
       "      <th>4</th>\n",
       "      <td>0</td>\n",
       "      <td>137</td>\n",
       "      <td>40</td>\n",
       "      <td>35</td>\n",
       "      <td>168</td>\n",
       "      <td>43.1</td>\n",
       "      <td>2.288</td>\n",
       "      <td>33</td>\n",
       "      <td>1</td>\n",
       "    </tr>\n",
       "  </tbody>\n",
       "</table>\n",
       "</div>"
      ],
      "text/plain": [
       "   Pregnancies  Glucose  BloodPressure  SkinThickness  Insulin   BMI  \\\n",
       "0            6      148             72             35        0  33.6   \n",
       "1            1       85             66             29        0  26.6   \n",
       "2            8      183             64              0        0  23.3   \n",
       "3            1       89             66             23       94  28.1   \n",
       "4            0      137             40             35      168  43.1   \n",
       "\n",
       "   DiabetesPedigreeFunction  Age  Outcome  \n",
       "0                     0.627   50        1  \n",
       "1                     0.351   31        0  \n",
       "2                     0.672   32        1  \n",
       "3                     0.167   21        0  \n",
       "4                     2.288   33        1  "
      ]
     },
     "execution_count": 2,
     "metadata": {},
     "output_type": "execute_result"
    }
   ],
   "source": [
    "data = pd.read_csv('diabetes_pm_in.csv')\n",
    "data.head()"
   ]
  },
  {
   "cell_type": "code",
   "execution_count": 3,
   "metadata": {},
   "outputs": [],
   "source": [
    "#null values\n",
    "data[\"Glucose\"] = data['Glucose'].replace(0, np.nan)\n",
    "data[\"BloodPressure\"] = data['BloodPressure'].replace(0, np.nan)\n",
    "data[\"SkinThickness\"] = data['Glucose'].replace(0, np.nan)\n",
    "data[\"Insulin\"] = data['BloodPressure'].replace(0, np.nan)\n",
    "data[\"BMI\"] = data['BMI'].replace(0, np.nan)"
   ]
  },
  {
   "cell_type": "code",
   "execution_count": 4,
   "metadata": {},
   "outputs": [
    {
     "name": "stdout",
     "output_type": "stream",
     "text": [
      "<class 'pandas.core.frame.DataFrame'>\n",
      "RangeIndex: 768 entries, 0 to 767\n",
      "Data columns (total 9 columns):\n",
      " #   Column                    Non-Null Count  Dtype  \n",
      "---  ------                    --------------  -----  \n",
      " 0   Pregnancies               768 non-null    int64  \n",
      " 1   Glucose                   763 non-null    float64\n",
      " 2   BloodPressure             733 non-null    float64\n",
      " 3   SkinThickness             763 non-null    float64\n",
      " 4   Insulin                   733 non-null    float64\n",
      " 5   BMI                       757 non-null    float64\n",
      " 6   DiabetesPedigreeFunction  768 non-null    float64\n",
      " 7   Age                       768 non-null    int64  \n",
      " 8   Outcome                   768 non-null    int64  \n",
      "dtypes: float64(6), int64(3)\n",
      "memory usage: 54.1 KB\n"
     ]
    }
   ],
   "source": [
    "data.info()"
   ]
  },
  {
   "cell_type": "code",
   "execution_count": 5,
   "metadata": {},
   "outputs": [
    {
     "data": {
      "text/html": [
       "<div>\n",
       "<style scoped>\n",
       "    .dataframe tbody tr th:only-of-type {\n",
       "        vertical-align: middle;\n",
       "    }\n",
       "\n",
       "    .dataframe tbody tr th {\n",
       "        vertical-align: top;\n",
       "    }\n",
       "\n",
       "    .dataframe thead th {\n",
       "        text-align: right;\n",
       "    }\n",
       "</style>\n",
       "<table border=\"1\" class=\"dataframe\">\n",
       "  <thead>\n",
       "    <tr style=\"text-align: right;\">\n",
       "      <th></th>\n",
       "      <th>Pregnancies</th>\n",
       "      <th>Glucose</th>\n",
       "      <th>BloodPressure</th>\n",
       "      <th>SkinThickness</th>\n",
       "      <th>Insulin</th>\n",
       "      <th>BMI</th>\n",
       "      <th>DiabetesPedigreeFunction</th>\n",
       "      <th>Age</th>\n",
       "      <th>Outcome</th>\n",
       "    </tr>\n",
       "  </thead>\n",
       "  <tbody>\n",
       "    <tr>\n",
       "      <th>count</th>\n",
       "      <td>768.000000</td>\n",
       "      <td>763.000000</td>\n",
       "      <td>733.000000</td>\n",
       "      <td>763.000000</td>\n",
       "      <td>733.000000</td>\n",
       "      <td>757.000000</td>\n",
       "      <td>768.000000</td>\n",
       "      <td>768.000000</td>\n",
       "      <td>768.000000</td>\n",
       "    </tr>\n",
       "    <tr>\n",
       "      <th>mean</th>\n",
       "      <td>3.845052</td>\n",
       "      <td>121.686763</td>\n",
       "      <td>72.405184</td>\n",
       "      <td>121.686763</td>\n",
       "      <td>72.405184</td>\n",
       "      <td>32.457464</td>\n",
       "      <td>0.471876</td>\n",
       "      <td>33.240885</td>\n",
       "      <td>0.348958</td>\n",
       "    </tr>\n",
       "    <tr>\n",
       "      <th>std</th>\n",
       "      <td>3.369578</td>\n",
       "      <td>30.535641</td>\n",
       "      <td>12.382158</td>\n",
       "      <td>30.535641</td>\n",
       "      <td>12.382158</td>\n",
       "      <td>6.924988</td>\n",
       "      <td>0.331329</td>\n",
       "      <td>11.760232</td>\n",
       "      <td>0.476951</td>\n",
       "    </tr>\n",
       "    <tr>\n",
       "      <th>min</th>\n",
       "      <td>0.000000</td>\n",
       "      <td>44.000000</td>\n",
       "      <td>24.000000</td>\n",
       "      <td>44.000000</td>\n",
       "      <td>24.000000</td>\n",
       "      <td>18.200000</td>\n",
       "      <td>0.078000</td>\n",
       "      <td>21.000000</td>\n",
       "      <td>0.000000</td>\n",
       "    </tr>\n",
       "    <tr>\n",
       "      <th>25%</th>\n",
       "      <td>1.000000</td>\n",
       "      <td>99.000000</td>\n",
       "      <td>64.000000</td>\n",
       "      <td>99.000000</td>\n",
       "      <td>64.000000</td>\n",
       "      <td>27.500000</td>\n",
       "      <td>0.243750</td>\n",
       "      <td>24.000000</td>\n",
       "      <td>0.000000</td>\n",
       "    </tr>\n",
       "    <tr>\n",
       "      <th>50%</th>\n",
       "      <td>3.000000</td>\n",
       "      <td>117.000000</td>\n",
       "      <td>72.000000</td>\n",
       "      <td>117.000000</td>\n",
       "      <td>72.000000</td>\n",
       "      <td>32.300000</td>\n",
       "      <td>0.372500</td>\n",
       "      <td>29.000000</td>\n",
       "      <td>0.000000</td>\n",
       "    </tr>\n",
       "    <tr>\n",
       "      <th>75%</th>\n",
       "      <td>6.000000</td>\n",
       "      <td>141.000000</td>\n",
       "      <td>80.000000</td>\n",
       "      <td>141.000000</td>\n",
       "      <td>80.000000</td>\n",
       "      <td>36.600000</td>\n",
       "      <td>0.626250</td>\n",
       "      <td>41.000000</td>\n",
       "      <td>1.000000</td>\n",
       "    </tr>\n",
       "    <tr>\n",
       "      <th>max</th>\n",
       "      <td>17.000000</td>\n",
       "      <td>199.000000</td>\n",
       "      <td>122.000000</td>\n",
       "      <td>199.000000</td>\n",
       "      <td>122.000000</td>\n",
       "      <td>67.100000</td>\n",
       "      <td>2.420000</td>\n",
       "      <td>81.000000</td>\n",
       "      <td>1.000000</td>\n",
       "    </tr>\n",
       "  </tbody>\n",
       "</table>\n",
       "</div>"
      ],
      "text/plain": [
       "       Pregnancies     Glucose  BloodPressure  SkinThickness     Insulin  \\\n",
       "count   768.000000  763.000000     733.000000     763.000000  733.000000   \n",
       "mean      3.845052  121.686763      72.405184     121.686763   72.405184   \n",
       "std       3.369578   30.535641      12.382158      30.535641   12.382158   \n",
       "min       0.000000   44.000000      24.000000      44.000000   24.000000   \n",
       "25%       1.000000   99.000000      64.000000      99.000000   64.000000   \n",
       "50%       3.000000  117.000000      72.000000     117.000000   72.000000   \n",
       "75%       6.000000  141.000000      80.000000     141.000000   80.000000   \n",
       "max      17.000000  199.000000     122.000000     199.000000  122.000000   \n",
       "\n",
       "              BMI  DiabetesPedigreeFunction         Age     Outcome  \n",
       "count  757.000000                768.000000  768.000000  768.000000  \n",
       "mean    32.457464                  0.471876   33.240885    0.348958  \n",
       "std      6.924988                  0.331329   11.760232    0.476951  \n",
       "min     18.200000                  0.078000   21.000000    0.000000  \n",
       "25%     27.500000                  0.243750   24.000000    0.000000  \n",
       "50%     32.300000                  0.372500   29.000000    0.000000  \n",
       "75%     36.600000                  0.626250   41.000000    1.000000  \n",
       "max     67.100000                  2.420000   81.000000    1.000000  "
      ]
     },
     "execution_count": 5,
     "metadata": {},
     "output_type": "execute_result"
    }
   ],
   "source": [
    "data.describe()"
   ]
  },
  {
   "cell_type": "code",
   "execution_count": 6,
   "metadata": {},
   "outputs": [],
   "source": [
    "from sklearn.preprocessing import StandardScaler\n",
    "x = data.drop(\"Outcome\", axis=1)\n",
    "y = data[\"Outcome\"]\n",
    "\n",
    "X_train, X_test, y_train, y_test = train_test_split(x, y, test_size = 0.3, random_state = 0)\n",
    "ss = StandardScaler()\n",
    "X_train_scaled = ss.fit_transform(X_train)\n",
    "X_test_scaled = ss.transform(X_test)"
   ]
  },
  {
   "cell_type": "code",
   "execution_count": 7,
   "metadata": {},
   "outputs": [],
   "source": [
    "from xgboost import XGBClassifier\n",
    "\n",
    "model = XGBClassifier()\n",
    "model.fit(X_train_scaled, y_train)\n",
    "importances = pd.DataFrame(data={\n",
    "    'Attribute': X_train.columns,\n",
    "    'Importance': model.feature_importances_\n",
    "})\n",
    "importances = importances.sort_values(by='Importance', ascending=False)"
   ]
  },
  {
   "cell_type": "code",
   "execution_count": 8,
   "metadata": {},
   "outputs": [
    {
     "data": {
      "image/png": "[encoded data removed]",
      "text/plain": [
       "<Figure size 432x288 with 1 Axes>"
      ]
     },
     "metadata": {
      "needs_background": "light"
     },
     "output_type": "display_data"
    }
   ],
   "source": [
    "plt.bar(x=importances['Attribute'], height=importances['Importance'], color='tan')\n",
    "plt.xticks(rotation='vertical')\n",
    "plt.show()"
   ]
  },
  {
   "cell_type": "markdown",
   "metadata": {},
   "source": [
    "# Data Preprocessing "
   ]
  },
  {
   "cell_type": "code",
   "execution_count": 29,
   "metadata": {},
   "outputs": [
    {
     "name": "stdout",
     "output_type": "stream",
     "text": [
      "<class 'pandas.core.frame.DataFrame'>\n",
      "Int64Index: 763 entries, 0 to 767\n",
      "Data columns (total 9 columns):\n",
      " #   Column                    Non-Null Count  Dtype  \n",
      "---  ------                    --------------  -----  \n",
      " 0   Pregnancies               763 non-null    int64  \n",
      " 1   Glucose                   763 non-null    float64\n",
      " 2   BloodPressure             728 non-null    float64\n",
      " 3   SkinThickness             763 non-null    float64\n",
      " 4   Insulin                   728 non-null    float64\n",
      " 5   BMI                       752 non-null    float64\n",
      " 6   DiabetesPedigreeFunction  763 non-null    float64\n",
      " 7   Age                       763 non-null    int64  \n",
      " 8   Outcome                   763 non-null    int64  \n",
      "dtypes: float64(6), int64(3)\n",
      "memory usage: 59.6 KB\n"
     ]
    }
   ],
   "source": [
    "data = data.dropna(subset=['Glucose', 'SkinThickness'])\n",
    "data.info()"
   ]
  },
  {
   "cell_type": "code",
   "execution_count": 11,
   "metadata": {},
   "outputs": [],
   "source": [
    "data.drop(\"SkinThickness\", axis=1, inplace=True)\n",
    "data.drop(\"Insulin\", axis=1, inplace=True)"
   ]
  },
  {
   "cell_type": "code",
   "execution_count": 13,
   "metadata": {},
   "outputs": [
    {
     "data": {
      "text/plain": [
       "(537, 6)"
      ]
     },
     "execution_count": 13,
     "metadata": {},
     "output_type": "execute_result"
    }
   ],
   "source": [
    "X_train.shape"
   ]
  },
  {
   "cell_type": "code",
   "execution_count": 12,
   "metadata": {},
   "outputs": [
    {
     "data": {
      "text/plain": [
       "array([[0.0000e+00, 1.5100e+02, 9.0000e+01, 4.2100e+01, 3.7100e-01,\n",
       "        2.1000e+01],\n",
       "       [1.0000e+00, 8.3000e+01, 6.8000e+01, 1.8200e+01, 6.2400e-01,\n",
       "        2.7000e+01],\n",
       "       [2.0000e+00, 1.2200e+02, 7.0000e+01, 3.6800e+01, 3.4000e-01,\n",
       "        2.7000e+01],\n",
       "       ...,\n",
       "       [4.0000e+00, 9.4000e+01, 6.5000e+01, 2.4700e+01, 1.4800e-01,\n",
       "        2.1000e+01],\n",
       "       [1.1000e+01, 8.5000e+01, 7.4000e+01, 3.0100e+01, 3.0000e-01,\n",
       "        3.5000e+01],\n",
       "       [5.0000e+00, 1.3600e+02, 8.2000e+01, 3.1275e+01, 6.4000e-01,\n",
       "        6.9000e+01]])"
      ]
     },
     "execution_count": 12,
     "metadata": {},
     "output_type": "execute_result"
    }
   ],
   "source": [
    "x = data.drop(\"Outcome\", axis=1)\n",
    "y = data[\"Outcome\"]\n",
    "\n",
    "X_train, X_test, y_train, y_test = train_test_split(x, y, test_size = 0.3, random_state = 0)\n",
    "\n",
    "#print(X_test.info())\n",
    "\n",
    "xy_test = pd.merge(X_test, y_test, left_index=True, right_index=True)\n",
    "xy_test  = xy_test.dropna()\n",
    "\n",
    "\n",
    "X_test = xy_test.drop(\"Outcome\", axis=1)\n",
    "y_test = xy_test[\"Outcome\"]\n",
    "\n",
    "\n",
    "\n",
    "imputer = KNNImputer(n_neighbors=4, weights=\"uniform\")\n",
    "imputer.fit_transform(X_train)\n",
    "\n",
    "\n",
    "#print(X_test.info())"
   ]
  },
  {
   "cell_type": "markdown",
   "metadata": {},
   "source": [
    "### Resampling Techniques"
   ]
  },
  {
   "cell_type": "code",
   "execution_count": 32,
   "metadata": {},
   "outputs": [
    {
     "name": "stdout",
     "output_type": "stream",
     "text": [
      "497 266\n"
     ]
    }
   ],
   "source": [
    "class_count_0, class_count_1 = data['Outcome'].value_counts()\n",
    "print(class_count_0, class_count_1)"
   ]
  },
  {
   "cell_type": "code",
   "execution_count": 33,
   "metadata": {},
   "outputs": [
    {
     "name": "stdout",
     "output_type": "stream",
     "text": [
      "class 0: (497, 9)\n",
      "class 1: (266, 9)\n"
     ]
    }
   ],
   "source": [
    "class_0 = data[data['Outcome'] == 0]\n",
    "class_1 = data[data['Outcome'] == 1]\n",
    "print('class 0:', class_0.shape)\n",
    "print('class 1:', class_1.shape)"
   ]
  },
  {
   "cell_type": "markdown",
   "metadata": {},
   "source": [
    "### 1. Random Under-Sampling "
   ]
  },
  {
   "cell_type": "markdown",
   "metadata": {},
   "source": [
    "#### Removing some observations of the majority class."
   ]
  },
  {
   "cell_type": "code",
   "execution_count": 34,
   "metadata": {},
   "outputs": [
    {
     "data": {
      "image/png": "[encoded data removed]",
      "text/plain": [
       "<Figure size 432x288 with 1 Axes>"
      ]
     },
     "metadata": {
      "needs_background": "light"
     },
     "output_type": "display_data"
    }
   ],
   "source": [
    "data['Outcome'].value_counts().plot(kind='bar', title='count (target)',  color = 'goldenrod')\n",
    "plt.title(\"Count of diabetes and non-diabetes cases\")\n",
    "#plt.savefig(\"count 01.png\")"
   ]
  },
  {
   "cell_type": "code",
   "execution_count": 35,
   "metadata": {},
   "outputs": [
    {
     "name": "stdout",
     "output_type": "stream",
     "text": [
      "total class of 1 and0: 1    266\n",
      "0    266\n",
      "Name: Outcome, dtype: int64\n"
     ]
    },
    {
     "data": {
      "text/plain": [
       "<matplotlib.axes._subplots.AxesSubplot at 0x7f92d4653198>"
      ]
     },
     "execution_count": 35,
     "metadata": {},
     "output_type": "execute_result"
    },
    {
     "data": {
      "image/png": "[encoded data removed]",
      "text/plain": [
       "<Figure size 432x288 with 1 Axes>"
      ]
     },
     "metadata": {
      "needs_background": "light"
     },
     "output_type": "display_data"
    }
   ],
   "source": [
    "class_0_under = class_0.sample(class_count_1)\n",
    "\n",
    "test_under = pd.concat([class_0_under, class_1], axis=0)\n",
    "\n",
    "print(\"total class of 1 and0:\",test_under['Outcome'].value_counts())# plot the count after under-sampeling\n",
    "test_under['Outcome'].value_counts().plot(kind='bar', title='count (target)',  color = 'goldenrod')"
   ]
  },
  {
   "cell_type": "code",
   "execution_count": 38,
   "metadata": {},
   "outputs": [
    {
     "data": {
      "text/plain": [
       "array([[  3.   ,  74.   ,  68.   , ...,  29.7  ,   0.293,  23.   ],\n",
       "       [  2.   ,  83.   ,  66.   , ...,  32.2  ,   0.497,  22.   ],\n",
       "       [  7.   , 150.   ,  66.   , ...,  34.7  ,   0.718,  42.   ],\n",
       "       ...,\n",
       "       [  6.   , 165.   ,  68.   , ...,  33.6  ,   0.631,  49.   ],\n",
       "       [  3.   , 139.   ,  54.   , ...,  25.6  ,   0.402,  22.   ],\n",
       "       [  3.   ,  83.   ,  58.   , ...,  34.3  ,   0.336,  25.   ]])"
      ]
     },
     "execution_count": 38,
     "metadata": {},
     "output_type": "execute_result"
    }
   ],
   "source": [
    "\n",
    "x_under = test_under.drop(\"Outcome\", axis=1)\n",
    "y_under = test_under[\"Outcome\"]\n",
    "\n",
    "X_train_un, X_test_un, y_train_un, y_test_un = train_test_split(x_under, y_under, test_size = 0.33, random_state = 0)\n",
    "\n",
    "#print(X_test.info())\n",
    "\n",
    "xy_test_un = pd.merge(X_test_un, y_test_un, left_index=True, right_index=True)\n",
    "xy_test_un  = xy_test_un.dropna()\n",
    "\n",
    "\n",
    "X_test_un = xy_test_un.drop(\"Outcome\", axis=1)\n",
    "y_test_un = xy_test_un[\"Outcome\"]\n",
    "\n",
    "\n",
    "\n",
    "imputer = KNNImputer(n_neighbors=4, weights=\"uniform\")\n",
    "imputer.fit_transform(X_train_un)\n"
   ]
  },
  {
   "cell_type": "markdown",
   "metadata": {},
   "source": [
    "### 2. Random Oversampling"
   ]
  },
  {
   "cell_type": "code",
   "execution_count": 39,
   "metadata": {},
   "outputs": [
    {
     "name": "stdout",
     "output_type": "stream",
     "text": [
      "total class of 1 and 0: 1    266\n",
      "0    266\n",
      "Name: Outcome, dtype: int64\n"
     ]
    },
    {
     "data": {
      "text/plain": [
       "<matplotlib.axes._subplots.AxesSubplot at 0x7f92d054f048>"
      ]
     },
     "execution_count": 39,
     "metadata": {},
     "output_type": "execute_result"
    },
    {
     "data": {
      "image/png": "[encoded data removed]",
      "text/plain": [
       "<Figure size 432x288 with 1 Axes>"
      ]
     },
     "metadata": {
      "needs_background": "light"
     },
     "output_type": "display_data"
    }
   ],
   "source": [
    "class_1_over = class_1.sample(class_count_0, replace=True)\n",
    "\n",
    "test_over = pd.concat([class_1_over, class_0], axis=0)\n",
    "\n",
    "print(\"total class of 1 and 0:\",test_under['Outcome'].value_counts())# plot the count after under-sampeling\n",
    "test_over['Outcome'].value_counts().plot(kind='bar', title='count (target)')"
   ]
  },
  {
   "cell_type": "code",
   "execution_count": 40,
   "metadata": {},
   "outputs": [
    {
     "data": {
      "text/plain": [
       "array([[1.00e+00, 8.10e+01, 7.20e+01, ..., 2.66e+01, 2.83e-01, 2.40e+01],\n",
       "       [5.00e+00, 1.89e+02, 6.40e+01, ..., 3.12e+01, 5.83e-01, 2.90e+01],\n",
       "       [3.00e+00, 1.25e+02, 5.80e+01, ..., 3.16e+01, 1.51e-01, 2.40e+01],\n",
       "       ...,\n",
       "       [7.00e+00, 1.79e+02, 9.50e+01, ..., 3.42e+01, 1.64e-01, 6.00e+01],\n",
       "       [1.00e+00, 1.51e+02, 6.00e+01, ..., 2.61e+01, 1.79e-01, 2.20e+01],\n",
       "       [0.00e+00, 1.37e+02, 6.80e+01, ..., 2.48e+01, 1.43e-01, 2.10e+01]])"
      ]
     },
     "execution_count": 40,
     "metadata": {},
     "output_type": "execute_result"
    }
   ],
   "source": [
    "x_over = test_over.drop(\"Outcome\", axis=1)\n",
    "y_over = test_over[\"Outcome\"]\n",
    "\n",
    "X_train_ov, X_test_ov, y_train_ov, y_test_ov = train_test_split(x_over, y_over, test_size = 0.3, random_state = 0)\n",
    "\n",
    "#print(X_test.info())\n",
    "\n",
    "xy_test_ov = pd.merge(X_test_un, y_test_un, left_index=True, right_index=True)\n",
    "xy_test_ov  = xy_test_ov.dropna()\n",
    "\n",
    "\n",
    "X_test_ov = xy_test_ov.drop(\"Outcome\", axis=1)\n",
    "y_test_ov = xy_test_ov[\"Outcome\"]\n",
    "\n",
    "\n",
    "\n",
    "imputer = KNNImputer(n_neighbors=4, weights=\"uniform\")\n",
    "imputer.fit_transform(X_train_ov)"
   ]
  },
  {
   "cell_type": "markdown",
   "metadata": {},
   "source": [
    "# 1"
   ]
  },
  {
   "cell_type": "markdown",
   "metadata": {},
   "source": [
    "##  Imbalanced-learn python module"
   ]
  },
  {
   "cell_type": "code",
   "execution_count": 14,
   "metadata": {},
   "outputs": [],
   "source": [
    "import imblearn"
   ]
  },
  {
   "cell_type": "code",
   "execution_count": 15,
   "metadata": {},
   "outputs": [],
   "source": [
    "x = data.drop(\"Outcome\", axis=1)\n",
    "y = data[\"Outcome\"]\n",
    "\n",
    "\n",
    "X_train, X_test, y_train, y_test = train_test_split(x, y, test_size = 0.3, random_state = 0)"
   ]
  },
  {
   "cell_type": "code",
   "execution_count": 16,
   "metadata": {},
   "outputs": [],
   "source": [
    "model_pipeline = []\n",
    "model_pipeline.append(LogisticRegression(solver='liblinear'))\n",
    "model_pipeline.append(SVC(probability=True))\n",
    "model_pipeline.append(KNeighborsClassifier())\n",
    "model_pipeline.append(DecisionTreeClassifier())\n",
    "model_pipeline.append(RandomForestClassifier())\n",
    "model_pipeline.append(GaussianNB())\n",
    "model_pipeline.append(XGBClassifier())\n",
    "\n",
    "def train_and_evaluate(model, train, train_y, test, test_y, eq=None, train_model=True, threshold=0.5):\n",
    "    r=[]\n",
    "    a=[]\n",
    "    auc=[]\n",
    "    for i in range(3):\n",
    "        if train_model:\n",
    "            model.fit(train, train_y)\n",
    "\n",
    "        results = model.predict_proba(test)\n",
    "        proba = results[:,1]\n",
    "        results = (results[:,1] > threshold).astype(int)\n",
    "\n",
    "\n",
    "        cm=confusion_matrix(test_y, results)\n",
    "\n",
    "        acc=(cm[0][0]+cm[1][1])/(cm[0][0]+cm[0][1]+cm[1][1]+cm[1][0])\n",
    "        roc=roc_auc_score(test_y, proba)\n",
    "        recall=precision_recall_fscore_support(test_y, results)[1][1]\n",
    "        a.append(acc)\n",
    "        r.append(recall)\n",
    "        auc.append(roc)\n",
    "    #print(classification_report(test_y, results))\n",
    "    print('Recall :', str(round(sum(r)/3,4)), '; Accuracy :',str(round(sum(a)/3,4)),'; ROC AUC :',str(round(sum(auc)/3,4)))    \n",
    "    return proba\n",
    "\n",
    "\n",
    "def training_models (model_pipeline, X_train, y_train, X_test, y_test):\n",
    "    \n",
    "    model_names = ['Logistic Regression','SVC','K-Neighbors Classifier','Decision Tree','Random Forest',\n",
    "                   'Gaussian Naive Bayes', 'XGBClassifier']\n",
    "    \n",
    "    for i in range(len(model_pipeline)):\n",
    "        if model_names[i] == 'Logistic Regression':\n",
    "            print(model_names[i])\n",
    "            lg_pr=train_and_evaluate(model_pipeline[i], X_train, y_train, X_test, y_test)\n",
    "            \n",
    "        else:\n",
    "            print(model_names[i])\n",
    "            train_and_evaluate(model_pipeline[i], X_train, y_train, X_test, y_test)"
   ]
  },
  {
   "cell_type": "markdown",
   "metadata": {},
   "source": [
    "### 3. Random under-sampling with imblearn"
   ]
  },
  {
   "cell_type": "code",
   "execution_count": 21,
   "metadata": {},
   "outputs": [],
   "source": [
    "from imblearn.under_sampling import RandomUnderSampler"
   ]
  },
  {
   "cell_type": "code",
   "execution_count": 22,
   "metadata": {},
   "outputs": [
    {
     "name": "stdout",
     "output_type": "stream",
     "text": [
      "original dataset shape: (537,)\n",
      "Resample dataset shape (388,)\n",
      "Logistic Regression\n",
      "Recall : 0.597 ; Accuracy : 0.7169 ; ROC AUC : 0.7958\n",
      "SVC\n",
      "Recall : 0.5821 ; Accuracy : 0.723 ; ROC AUC : 0.8147\n",
      "K-Neighbors Classifier\n",
      "Recall : 0.6567 ; Accuracy : 0.7123 ; ROC AUC : 0.7789\n",
      "Decision Tree\n",
      "Recall : 0.7015 ; Accuracy : 0.6804 ; ROC AUC : 0.6863\n",
      "Random Forest\n",
      "Recall : 0.7562 ; Accuracy : 0.7412 ; ROC AUC : 0.8259\n",
      "Gaussian Naive Bayes\n",
      "Recall : 0.597 ; Accuracy : 0.7215 ; ROC AUC : 0.8162\n",
      "XGBClassifier\n",
      "Recall : 0.7015 ; Accuracy : 0.7169 ; ROC AUC : 0.8091\n"
     ]
    }
   ],
   "source": [
    "x = data.drop(\"Outcome\", axis=1)\n",
    "y = data[\"Outcome\"]\n",
    "\n",
    "#split train test\n",
    "X_train_rus, X_test_rus, y_train_rus, y_test_rus = train_test_split(x, y, test_size = 0.3, random_state = 0)\n",
    "\n",
    "\n",
    "xy_test_rus= pd.merge(X_test_rus, y_test_rus, left_index=True, right_index=True)\n",
    "xy_test_rus = xy_test_rus.dropna()\n",
    "\n",
    "\n",
    "X_test_rus = xy_test_rus.drop(\"Outcome\", axis=1)\n",
    "y_test_rus = xy_test_rus[\"Outcome\"]\n",
    "\n",
    "imputer = KNNImputer(n_neighbors=4, weights=\"uniform\")\n",
    "impute_data = X_train_rus\n",
    "X_train_rus = pd.DataFrame(np.round(imputer.fit_transform(impute_data)),columns = impute_data.columns)\n",
    "\n",
    "\n",
    "rus = RandomUnderSampler(random_state=42, replacement=True)\n",
    "x_train_rus, y_train_rus = rus.fit_resample(X_train_rus, y_train_rus)\n",
    "\n",
    "print('original dataset shape:', y_train.shape)\n",
    "print('Resample dataset shape', y_train_rus.shape)\n",
    "\n",
    "training_models (model_pipeline, x_train_rus, y_train_rus, X_test_rus, y_test_rus)\n",
    "\n"
   ]
  },
  {
   "cell_type": "code",
   "execution_count": 23,
   "metadata": {},
   "outputs": [
    {
     "name": "stdout",
     "output_type": "stream",
     "text": [
      "Logistic Regression\n",
      "Recall : 0.597 ; Accuracy : 0.7169 ; ROC AUC : 0.7958\n",
      "SVC\n",
      "Recall : 0.5821 ; Accuracy : 0.7215 ; ROC AUC : 0.8147\n",
      "K-Neighbors Classifier\n",
      "Recall : 0.6567 ; Accuracy : 0.7123 ; ROC AUC : 0.7789\n",
      "Decision Tree\n",
      "Recall : 0.7065 ; Accuracy : 0.6743 ; ROC AUC : 0.6833\n",
      "Random Forest\n",
      "Recall : 0.7562 ; Accuracy : 0.7382 ; ROC AUC : 0.8281\n",
      "Gaussian Naive Bayes\n",
      "Recall : 0.597 ; Accuracy : 0.7215 ; ROC AUC : 0.8162\n",
      "XGBClassifier\n",
      "Recall : 0.7015 ; Accuracy : 0.7169 ; ROC AUC : 0.8091\n"
     ]
    }
   ],
   "source": [
    "training_models (model_pipeline, x_train_rus, y_train_rus, X_test_rus, y_test_rus)\n",
    "### RANDOM UNDERSAMPLE"
   ]
  },
  {
   "cell_type": "markdown",
   "metadata": {},
   "source": [
    "### 4. Random over-sampling with imblearn"
   ]
  },
  {
   "cell_type": "code",
   "execution_count": 17,
   "metadata": {},
   "outputs": [],
   "source": [
    "from imblearn.over_sampling import RandomOverSampler"
   ]
  },
  {
   "cell_type": "code",
   "execution_count": 24,
   "metadata": {},
   "outputs": [
    {
     "name": "stdout",
     "output_type": "stream",
     "text": [
      "original dataset shape: (537,)\n",
      "Resample dataset shape (686,)\n",
      "Logistic Regression\n",
      "Recall : 0.6418 ; Accuracy : 0.726 ; ROC AUC : 0.8119\n",
      "SVC\n",
      "Recall : 0.597 ; Accuracy : 0.7108 ; ROC AUC : 0.8144\n",
      "K-Neighbors Classifier\n",
      "Recall : 0.6567 ; Accuracy : 0.7169 ; ROC AUC : 0.7322\n",
      "Decision Tree\n",
      "Recall : 0.5473 ; Accuracy : 0.7549 ; ROC AUC : 0.6969\n",
      "Random Forest\n",
      "Recall : 0.6169 ; Accuracy : 0.7717 ; ROC AUC : 0.8299\n",
      "Gaussian Naive Bayes\n",
      "Recall : 0.6119 ; Accuracy : 0.7397 ; ROC AUC : 0.8263\n",
      "XGBClassifier\n",
      "Recall : 0.7313 ; Accuracy : 0.7945 ; ROC AUC : 0.836\n"
     ]
    }
   ],
   "source": [
    "#split train test\n",
    "X_train_rus, X_test_rus, y_train_rus, y_test_rus = train_test_split(x, y, test_size = 0.3, random_state = 0)\n",
    "\n",
    "#print(X_test.info())\n",
    "\n",
    "#merge back test to delete nan\n",
    "xy_test_rus= pd.merge(X_test_rus, y_test_rus, left_index=True, right_index=True)\n",
    "xy_test_rus = xy_test_rus.dropna()\n",
    "\n",
    "#split again\n",
    "X_test_rus = xy_test_rus.drop(\"Outcome\", axis=1)\n",
    "y_test_rus = xy_test_rus[\"Outcome\"]\n",
    "\n",
    "\n",
    "#impute missing values in train\n",
    "imputer = KNNImputer(n_neighbors=4, weights=\"uniform\")\n",
    "#X_train_rus = imputer.fit_transform(X_train_rus)\n",
    "impute_data = X_train_rus\n",
    "X_train_rus = pd.DataFrame(np.round(imputer.fit_transform(impute_data)),columns = impute_data.columns)\n",
    "\n",
    "#sampling\n",
    "ros = RandomOverSampler(random_state=42)\n",
    "\n",
    "x_train_rus, y_train_rus = ros.fit_resample(X_train_rus, y_train_rus)\n",
    "\n",
    "print('original dataset shape:', y_train.shape)\n",
    "print('Resample dataset shape', y_train_rus.shape)\n",
    "\n",
    "training_models (model_pipeline, x_train_rus, y_train_rus, X_test_rus, y_test_rus)"
   ]
  },
  {
   "cell_type": "markdown",
   "metadata": {},
   "source": [
    "### 5. Under-sampling: Tomek links "
   ]
  },
  {
   "cell_type": "markdown",
   "metadata": {},
   "source": [
    "### 5.1. Tomek links (majority)"
   ]
  },
  {
   "cell_type": "markdown",
   "metadata": {},
   "source": [
    "Tomek links are pairs of very close instances but of opposite classes. Removing the instances of the majority class of each pair increases the space between the two classes, facilitating the classification process.\n",
    "\n",
    "Tomek’s link exists if the two samples are the nearest neighbors of each other"
   ]
  },
  {
   "cell_type": "code",
   "execution_count": 26,
   "metadata": {},
   "outputs": [],
   "source": [
    "from imblearn.under_sampling import TomekLinks"
   ]
  },
  {
   "cell_type": "code",
   "execution_count": 36,
   "metadata": {},
   "outputs": [
    {
     "name": "stdout",
     "output_type": "stream",
     "text": [
      "original dataset shape: (537,)\n",
      "Resample dataset shape (492,)\n",
      "Logistic Regression\n",
      "Recall : 0.5821 ; Accuracy : 0.7534 ; ROC AUC : 0.8095\n",
      "SVC\n",
      "Recall : 0.5373 ; Accuracy : 0.7534 ; ROC AUC : 0.8063\n",
      "K-Neighbors Classifier\n",
      "Recall : 0.6269 ; Accuracy : 0.7443 ; ROC AUC : 0.7626\n",
      "Decision Tree\n",
      "Recall : 0.6915 ; Accuracy : 0.7291 ; ROC AUC : 0.7186\n",
      "Random Forest\n",
      "Recall : 0.6318 ; Accuracy : 0.7778 ; ROC AUC : 0.8262\n",
      "Gaussian Naive Bayes\n",
      "Recall : 0.597 ; Accuracy : 0.7443 ; ROC AUC : 0.8232\n",
      "XGBClassifier\n",
      "Recall : 0.6716 ; Accuracy : 0.7671 ; ROC AUC : 0.8267\n"
     ]
    }
   ],
   "source": [
    "#split train test\n",
    "X_train_rus, X_test_rus, y_train_rus, y_test_rus = train_test_split(x, y, test_size = 0.3, random_state = 0)\n",
    "\n",
    "#print(X_test.info())\n",
    "\n",
    "#merge back test to delete nan\n",
    "xy_test_rus= pd.merge(X_test_rus, y_test_rus, left_index=True, right_index=True)\n",
    "xy_test_rus = xy_test_rus.dropna()\n",
    "\n",
    "#split again\n",
    "X_test_rus = xy_test_rus.drop(\"Outcome\", axis=1)\n",
    "y_test_rus = xy_test_rus[\"Outcome\"]\n",
    "\n",
    "\n",
    "#impute missing values in train\n",
    "imputer = KNNImputer(n_neighbors=4, weights=\"uniform\")\n",
    "#X_train_rus = imputer.fit_transform(X_train_rus)\n",
    "impute_data = X_train_rus\n",
    "X_train_rus = pd.DataFrame(np.round(imputer.fit_transform(impute_data)),columns = impute_data.columns)\n",
    "\n",
    "#sampling\n",
    "tl_maj = TomekLinks(sampling_strategy='majority')\n",
    "\n",
    "x_train_rus, y_train_rus = tl_maj.fit_resample(X_train_rus, y_train_rus)\n",
    "\n",
    "print('original dataset shape:', y_train.shape)\n",
    "print('Resample dataset shape', y_train_rus.shape)\n",
    "\n",
    "training_models (model_pipeline, x_train_rus, y_train_rus, X_test_rus, y_test_rus)"
   ]
  },
  {
   "cell_type": "markdown",
   "metadata": {},
   "source": [
    "### 5.2. Under-sampling: Tomek links (majority)"
   ]
  },
  {
   "cell_type": "code",
   "execution_count": 28,
   "metadata": {},
   "outputs": [
    {
     "name": "stdout",
     "output_type": "stream",
     "text": [
      "original dataset shape: (537,)\n",
      "Resample dataset shape (447,)\n",
      "Logistic Regression\n",
      "Recall : 0.5075 ; Accuracy : 0.7489 ; ROC AUC : 0.7982\n",
      "SVC\n",
      "Recall : 0.4925 ; Accuracy : 0.7565 ; ROC AUC : 0.801\n",
      "K-Neighbors Classifier\n",
      "Recall : 0.5373 ; Accuracy : 0.7626 ; ROC AUC : 0.7705\n",
      "Decision Tree\n",
      "Recall : 0.6517 ; Accuracy : 0.7656 ; ROC AUC : 0.7338\n",
      "Random Forest\n",
      "Recall : 0.5423 ; Accuracy : 0.7778 ; ROC AUC : 0.8281\n",
      "Gaussian Naive Bayes\n",
      "Recall : 0.5672 ; Accuracy : 0.7626 ; ROC AUC : 0.8253\n",
      "XGBClassifier\n",
      "Recall : 0.5373 ; Accuracy : 0.758 ; ROC AUC : 0.8289\n"
     ]
    }
   ],
   "source": [
    "#split train test\n",
    "X_train_rus, X_test_rus, y_train_rus, y_test_rus = train_test_split(x, y, test_size = 0.3, random_state = 0)\n",
    "\n",
    "#print(X_test.info())\n",
    "\n",
    "#merge back test to delete nan\n",
    "xy_test_rus= pd.merge(X_test_rus, y_test_rus, left_index=True, right_index=True)\n",
    "xy_test_rus = xy_test_rus.dropna()\n",
    "\n",
    "#split again\n",
    "X_test_rus = xy_test_rus.drop(\"Outcome\", axis=1)\n",
    "y_test_rus = xy_test_rus[\"Outcome\"]\n",
    "\n",
    "\n",
    "#impute missing values in train\n",
    "imputer = KNNImputer(n_neighbors=4, weights=\"uniform\")\n",
    "#X_train_rus = imputer.fit_transform(X_train_rus)\n",
    "impute_data = X_train_rus\n",
    "X_train_rus = pd.DataFrame(np.round(imputer.fit_transform(impute_data)),columns = impute_data.columns)\n",
    "\n",
    "#sampling\n",
    "tl_all = TomekLinks(sampling_strategy='all')\n",
    "\n",
    "\n",
    "x_train_rus, y_train_rus = tl_all.fit_resample(X_train_rus, y_train_rus)\n",
    "\n",
    "print('original dataset shape:', y_train.shape)\n",
    "print('Resample dataset shape', y_train_rus.shape)\n",
    "\n",
    "training_models (model_pipeline, x_train_rus, y_train_rus, X_test_rus, y_test_rus)"
   ]
  },
  {
   "cell_type": "markdown",
   "metadata": {},
   "source": [
    "### 6. Near Miss Undersampling"
   ]
  },
  {
   "cell_type": "markdown",
   "metadata": {},
   "source": [
    "NearMiss-1 selects examples from the majority class that have the smallest average distance to the three closest examples from the minority class. NearMiss-2 selects examples from the majority class that have the smallest average distance to the three furthest examples from the minority class. NearMiss-3 involves selecting a given number of majority class examples for each example in the minority class that are closest.\n",
    "\n",
    "Here, distance is determined in feature space using Euclidean distance or similar.\n",
    "\n",
    "NearMiss-1: Majority class examples with minimum average distance to three closest minority class examples.\n",
    "NearMiss-2: Majority class examples with minimum average distance to three furthest minority class examples.\n",
    "NearMiss-3: Majority class examples with minimum distance to each minority class example.\n",
    "The NearMiss-3 seems desirable, given that it will only keep those majority class examples that are on the decision boundary.\n",
    "\n",
    "We can implement the Near Miss methods using the NearMiss imbalanced-learn class.\n",
    "\n",
    "The type of near-miss strategy used is defined by the “version” argument, which by default is set to 1 for NearMiss-1, but can be set to 2 or 3 for the other two methods"
   ]
  },
  {
   "cell_type": "markdown",
   "metadata": {},
   "source": [
    "### 6.1 NearMiss-1"
   ]
  },
  {
   "cell_type": "code",
   "execution_count": 135,
   "metadata": {},
   "outputs": [],
   "source": [
    "from imblearn.under_sampling import NearMiss"
   ]
  },
  {
   "cell_type": "code",
   "execution_count": 147,
   "metadata": {},
   "outputs": [
    {
     "name": "stdout",
     "output_type": "stream",
     "text": [
      "Original dataset shape (768,)\n",
      "Resample dataset shape (536,)\n"
     ]
    }
   ],
   "source": [
    "nearmiss_1 = NearMiss(version=1)\n",
    "x_nm_1, y_nm_1 = nearmiss_1.fit_resample(x, y)\n",
    "\n",
    "print('Original dataset shape', y.shape)\n",
    "print('Resample dataset shape', y_nm_1.shape)"
   ]
  },
  {
   "cell_type": "markdown",
   "metadata": {},
   "source": [
    "### 6.2 NearMiss-2"
   ]
  },
  {
   "cell_type": "code",
   "execution_count": 136,
   "metadata": {},
   "outputs": [
    {
     "name": "stdout",
     "output_type": "stream",
     "text": [
      "Original dataset shape (768,)\n",
      "Resample dataset shape (536,)\n"
     ]
    }
   ],
   "source": [
    "nearmiss_2 = NearMiss(version=2)\n",
    "x_nm_2, y_nm_2 = nearmiss_2.fit_resample(x, y)\n",
    "\n",
    "print('Original dataset shape', y.shape)\n",
    "print('Resample dataset shape', y_nm_2.shape)"
   ]
  },
  {
   "cell_type": "markdown",
   "metadata": {},
   "source": [
    "### 6.3 NearMiss-3"
   ]
  },
  {
   "cell_type": "code",
   "execution_count": 37,
   "metadata": {},
   "outputs": [
    {
     "name": "stderr",
     "output_type": "stream",
     "text": [
      "/Users/juliasulstarova/anaconda3/lib/python3.6/site-packages/imblearn/under_sampling/_prototype_selection/_nearmiss.py:176: UserWarning: The number of the samples to be selected is larger than the number of samples available. The balancing ratio cannot be ensure and all samples will be returned.\n",
      "  \"The number of the samples to be selected is larger\"\n"
     ]
    },
    {
     "name": "stdout",
     "output_type": "stream",
     "text": [
      "original dataset shape: (537,)\n",
      "Resample dataset shape (371,)\n",
      "Logistic Regression\n",
      "Recall : 0.6269 ; Accuracy : 0.7397 ; ROC AUC : 0.8068\n",
      "SVC\n",
      "Recall : 0.5373 ; Accuracy : 0.7489 ; ROC AUC : 0.806\n",
      "K-Neighbors Classifier\n",
      "Recall : 0.5373 ; Accuracy : 0.726 ; ROC AUC : 0.6915\n",
      "Decision Tree\n",
      "Recall : 0.5373 ; Accuracy : 0.6606 ; ROC AUC : 0.6261\n",
      "Random Forest\n",
      "Recall : 0.607 ; Accuracy : 0.758 ; ROC AUC : 0.7915\n",
      "Gaussian Naive Bayes\n",
      "Recall : 0.5672 ; Accuracy : 0.7671 ; ROC AUC : 0.8073\n",
      "XGBClassifier\n",
      "Recall : 0.597 ; Accuracy : 0.7352 ; ROC AUC : 0.7768\n"
     ]
    }
   ],
   "source": [
    "from imblearn.under_sampling import NearMiss\n",
    "\n",
    "\n",
    "#split train test\n",
    "X_train_rus, X_test_rus, y_train_rus, y_test_rus = train_test_split(x, y, test_size = 0.3, random_state = 0)\n",
    "\n",
    "#print(X_test.info())\n",
    "\n",
    "#merge back test to delete nan\n",
    "xy_test_rus= pd.merge(X_test_rus, y_test_rus, left_index=True, right_index=True)\n",
    "xy_test_rus = xy_test_rus.dropna()\n",
    "\n",
    "#split again\n",
    "X_test_rus = xy_test_rus.drop(\"Outcome\", axis=1)\n",
    "y_test_rus = xy_test_rus[\"Outcome\"]\n",
    "\n",
    "\n",
    "#impute missing values in train\n",
    "imputer = KNNImputer(n_neighbors=4, weights=\"uniform\")\n",
    "#X_train_rus = imputer.fit_transform(X_train_rus)\n",
    "impute_data = X_train_rus\n",
    "X_train_rus = pd.DataFrame(np.round(imputer.fit_transform(impute_data)),columns = impute_data.columns)\n",
    "\n",
    "#sampling\n",
    "nearmiss_3 = NearMiss(version=3)\n",
    "\n",
    "x_train_rus, y_train_rus = nearmiss_3.fit_resample(X_train_rus, y_train_rus)\n",
    "\n",
    "print('original dataset shape:', y_train.shape)\n",
    "print('Resample dataset shape', y_train_rus.shape)\n",
    "\n",
    "training_models (model_pipeline, x_train_rus, y_train_rus, X_test_rus, y_test_rus)"
   ]
  },
  {
   "cell_type": "markdown",
   "metadata": {},
   "source": [
    "### 7. SMOTE"
   ]
  },
  {
   "cell_type": "code",
   "execution_count": 30,
   "metadata": {},
   "outputs": [],
   "source": [
    "from imblearn.over_sampling import SMOTE"
   ]
  },
  {
   "cell_type": "code",
   "execution_count": 38,
   "metadata": {},
   "outputs": [
    {
     "name": "stdout",
     "output_type": "stream",
     "text": [
      "original dataset shape: (537,)\n",
      "Resample dataset shape (686,)\n",
      "Logistic Regression\n",
      "Recall : 0.6418 ; Accuracy : 0.7169 ; ROC AUC : 0.8108\n",
      "SVC\n",
      "Recall : 0.592 ; Accuracy : 0.7215 ; ROC AUC : 0.8126\n",
      "K-Neighbors Classifier\n",
      "Recall : 0.6418 ; Accuracy : 0.7169 ; ROC AUC : 0.7475\n",
      "Decision Tree\n",
      "Recall : 0.7065 ; Accuracy : 0.6773 ; ROC AUC : 0.6855\n",
      "Random Forest\n",
      "Recall : 0.8209 ; Accuracy : 0.6758 ; ROC AUC : 0.8097\n",
      "Gaussian Naive Bayes\n",
      "Recall : 0.6269 ; Accuracy : 0.726 ; ROC AUC : 0.8308\n",
      "XGBClassifier\n",
      "Recall : 0.8806 ; Accuracy : 0.6712 ; ROC AUC : 0.7985\n"
     ]
    }
   ],
   "source": [
    "smote = SMOTE()\n",
    "from imblearn.under_sampling import NearMiss\n",
    "#split train test\n",
    "X_train_rus, X_test_rus, y_train_rus, y_test_rus = train_test_split(x, y, test_size = 0.3, random_state = 0)\n",
    "\n",
    "#print(X_test.info())\n",
    "\n",
    "#merge back test to delete nan\n",
    "xy_test_rus= pd.merge(X_test_rus, y_test_rus, left_index=True, right_index=True)\n",
    "xy_test_rus = xy_test_rus.dropna()\n",
    "\n",
    "#split again\n",
    "X_test_rus = xy_test_rus.drop(\"Outcome\", axis=1)\n",
    "y_test_rus = xy_test_rus[\"Outcome\"]\n",
    "\n",
    "\n",
    "#impute missing values in train\n",
    "imputer = KNNImputer(n_neighbors=4, weights=\"uniform\")\n",
    "#X_train_rus = imputer.fit_transform(X_train_rus)\n",
    "impute_data = X_train_rus\n",
    "X_train_rus = pd.DataFrame(np.round(imputer.fit_transform(impute_data)),columns = impute_data.columns)\n",
    "\n",
    "#sampling\n",
    "\n",
    "x_train_rus, y_train_rus = smote.fit_resample(X_train_rus, y_train_rus)\n",
    "\n",
    "print('original dataset shape:', y_train.shape)\n",
    "print('Resample dataset shape', y_train_rus.shape)\n",
    "\n",
    "training_models (model_pipeline, x_train_rus, y_train_rus, X_test_rus, y_test_rus)"
   ]
  },
  {
   "cell_type": "markdown",
   "metadata": {},
   "source": [
    "### 8. Pipeline"
   ]
  },
  {
   "cell_type": "markdown",
   "metadata": {},
   "source": [
    "oversampling the minority class, then undersampling the majority class"
   ]
  },
  {
   "cell_type": "code",
   "execution_count": 32,
   "metadata": {},
   "outputs": [],
   "source": [
    "from imblearn.pipeline import Pipeline"
   ]
  },
  {
   "cell_type": "code",
   "execution_count": 33,
   "metadata": {},
   "outputs": [],
   "source": [
    "over = SMOTE(sampling_strategy=0.6)\n",
    "under = RandomUnderSampler(sampling_strategy=0.8)"
   ]
  },
  {
   "cell_type": "code",
   "execution_count": 34,
   "metadata": {},
   "outputs": [],
   "source": [
    "steps = [('o', over), ('u', under)]\n",
    "pipeline = Pipeline(steps=steps)"
   ]
  },
  {
   "cell_type": "code",
   "execution_count": 39,
   "metadata": {},
   "outputs": [
    {
     "name": "stdout",
     "output_type": "stream",
     "text": [
      "original dataset shape: (537,)\n",
      "Resample dataset shape (461,)\n",
      "Logistic Regression\n",
      "Recall : 0.597 ; Accuracy : 0.7397 ; ROC AUC : 0.8071\n",
      "SVC\n",
      "Recall : 0.5373 ; Accuracy : 0.7489 ; ROC AUC : 0.8104\n",
      "K-Neighbors Classifier\n",
      "Recall : 0.6269 ; Accuracy : 0.7489 ; ROC AUC : 0.7526\n",
      "Decision Tree\n",
      "Recall : 0.6766 ; Accuracy : 0.6728 ; ROC AUC : 0.6738\n",
      "Random Forest\n",
      "Recall : 0.7114 ; Accuracy : 0.7747 ; ROC AUC : 0.816\n",
      "Gaussian Naive Bayes\n",
      "Recall : 0.597 ; Accuracy : 0.7443 ; ROC AUC : 0.8266\n",
      "XGBClassifier\n",
      "Recall : 0.7164 ; Accuracy : 0.7306 ; ROC AUC : 0.804\n"
     ]
    }
   ],
   "source": [
    "from imblearn.under_sampling import NearMiss\n",
    "#split train test\n",
    "X_train_rus, X_test_rus, y_train_rus, y_test_rus = train_test_split(x, y, test_size = 0.3, random_state = 0)\n",
    "\n",
    "\n",
    "\n",
    "\n",
    "xy_test_rus= pd.merge(X_test_rus, y_test_rus, left_index=True, right_index=True)\n",
    "xy_test_rus = xy_test_rus.dropna()\n",
    "\n",
    "\n",
    "X_test_rus = xy_test_rus.drop(\"Outcome\", axis=1)\n",
    "y_test_rus = xy_test_rus[\"Outcome\"]\n",
    "\n",
    "\n",
    "imputer = KNNImputer(n_neighbors=4, weights=\"uniform\")\n",
    "impute_data = X_train_rus\n",
    "X_train_rus = pd.DataFrame(np.round(imputer.fit_transform(impute_data)),columns = impute_data.columns)\n",
    "\n",
    "#sampling\n",
    "\n",
    "x_train_rus, y_train_rus = pipeline.fit_resample(X_train_rus, y_train_rus)\n",
    "\n",
    "print('original dataset shape:', y_train.shape)\n",
    "print('Resample dataset shape', y_train_rus.shape)\n",
    "\n",
    "training_models (model_pipeline, x_train_rus, y_train_rus, X_test_rus, y_test_rus)"
   ]
  },
  {
   "cell_type": "code",
   "execution_count": null,
   "metadata": {},
   "outputs": [],
   "source": []
  },
  {
   "cell_type": "markdown",
   "metadata": {},
   "source": [
    "## Choosing best sampling method"
   ]
  },
  {
   "cell_type": "markdown",
   "metadata": {},
   "source": [
    "# Train + Predictions"
   ]
  },
  {
   "cell_type": "code",
   "execution_count": 145,
   "metadata": {},
   "outputs": [],
   "source": [
    "from sklearn.model_selection import train_test_split"
   ]
  },
  {
   "cell_type": "code",
   "execution_count": 78,
   "metadata": {},
   "outputs": [],
   "source": [
    "from sklearn.model_selection import train_test_split\n",
    "X_train, X_test, y_train, y_test = train_test_split(x, y, test_size = 0.33, random_state = 0)"
   ]
  },
  {
   "cell_type": "code",
   "execution_count": 103,
   "metadata": {},
   "outputs": [],
   "source": [
    "from sklearn.linear_model import LogisticRegression\n",
    "from sklearn.svm import SVC\n",
    "from sklearn.neighbors import KNeighborsClassifier\n",
    "from sklearn.tree import DecisionTreeClassifier\n",
    "from sklearn.ensemble import RandomForestClassifier\n",
    "from sklearn.naive_bayes import GaussianNB\n",
    "from xgboost.sklearn import XGBClassifier\n",
    "from sklearn.metrics import classification_report, roc_auc_score, confusion_matrix, accuracy_score, recall_score, precision_recall_fscore_support, f1_score\n",
    "from scipy.stats import uniform\n",
    "from sklearn.model_selection import RandomizedSearchCV, GridSearchCV\n",
    "from sklearn.model_selection import cross_validate\n",
    "from sklearn.model_selection import train_test_split"
   ]
  },
  {
   "cell_type": "code",
   "execution_count": 110,
   "metadata": {},
   "outputs": [],
   "source": [
    "model_pipeline = []\n",
    "model_pipeline.append(LogisticRegression(solver='liblinear'))\n",
    "model_pipeline.append(SVC(probability=True))\n",
    "model_pipeline.append(KNeighborsClassifier())\n",
    "model_pipeline.append(DecisionTreeClassifier())\n",
    "model_pipeline.append(RandomForestClassifier())\n",
    "model_pipeline.append(GaussianNB())\n",
    "model_pipeline.append(XGBClassifier())"
   ]
  },
  {
   "cell_type": "code",
   "execution_count": 111,
   "metadata": {},
   "outputs": [],
   "source": [
    "model_pipeline = []\n",
    "model_pipeline.append(LogisticRegression(solver='liblinear'))\n",
    "model_pipeline.append(SVC(probability=True))\n",
    "model_pipeline.append(KNeighborsClassifier())\n",
    "model_pipeline.append(DecisionTreeClassifier())\n",
    "model_pipeline.append(RandomForestClassifier())\n",
    "model_pipeline.append(GaussianNB())\n",
    "model_pipeline.append(XGBClassifier())\n",
    "\n",
    "def train_and_evaluate(model, train, train_y, test, test_y, eq=None, train_model=True, threshold=0.5):\n",
    "    r=[]\n",
    "    a=[]\n",
    "    auc=[]\n",
    "    for i in range(3):\n",
    "        if train_model:\n",
    "            model.fit(train, train_y)\n",
    "\n",
    "        results = model.predict_proba(test)\n",
    "        proba = results[:,1]\n",
    "        results = (results[:,1] > threshold).astype(int)\n",
    "\n",
    "\n",
    "        cm=confusion_matrix(test_y, results)\n",
    "\n",
    "        acc=(cm[0][0]+cm[1][1])/(cm[0][0]+cm[0][1]+cm[1][1]+cm[1][0])\n",
    "        roc=roc_auc_score(test_y, proba)\n",
    "        recall=precision_recall_fscore_support(test_y, results)[1][1]\n",
    "        a.append(acc)\n",
    "        r.append(recall)\n",
    "        auc.append(roc)\n",
    "    #print(classification_report(test_y, results))\n",
    "    print('Recall :', str(round(sum(r)/3,4)), '; Accuracy :',str(round(sum(a)/3,4)),'; ROC AUC :',str(round(sum(auc)/3,4)))    \n",
    "    return proba\n",
    "\n",
    "\n",
    "def training_models (model_pipeline, X_train, y_train, X_test, y_test):\n",
    "    \n",
    "    model_names = ['Logistic Regression','SVC','K-Neighbors Classifier','Decision Tree','Random Forest',\n",
    "                   'Gaussian Naive Bayes', 'XGBClassifier']\n",
    "    \n",
    "    for i in range(len(model_pipeline)):\n",
    "        if model_names[i] == 'Logistic Regression':\n",
    "            print(model_names[i])\n",
    "            lg_pr=train_and_evaluate(model_pipeline[i], X_train, y_train, X_test, y_test)\n",
    "            \n",
    "        else:\n",
    "            print(model_names[i])\n",
    "            train_and_evaluate(model_pipeline[i], X_train, y_train, X_test, y_test)"
   ]
  },
  {
   "cell_type": "code",
   "execution_count": 112,
   "metadata": {},
   "outputs": [
    {
     "name": "stdout",
     "output_type": "stream",
     "text": [
      "Logistic Regression\n",
      "Recall : 0.5357 ; Accuracy : 0.7913 ; ROC AUC : 0.8462\n",
      "SVC\n",
      "Recall : 0.4921 ; Accuracy : 0.7638 ; ROC AUC : 0.8201\n",
      "K-Neighbors Classifier\n",
      "Recall : 0.4881 ; Accuracy : 0.7323 ; ROC AUC : 0.7339\n",
      "Decision Tree\n",
      "Recall : 0.5357 ; Accuracy : 0.7126 ; ROC AUC : 0.6679\n",
      "Random Forest\n",
      "Recall : 0.5397 ; Accuracy : 0.7717 ; ROC AUC : 0.8314\n",
      "Gaussian Naive Bayes\n",
      "Recall : 0.5119 ; Accuracy : 0.748 ; ROC AUC : 0.7951\n",
      "XGBClassifier\n",
      "Recall : 0.5714 ; Accuracy : 0.7638 ; ROC AUC : 0.8247\n"
     ]
    }
   ],
   "source": [
    "training_models(model_pipeline, X_train, y_train, X_test, y_test)"
   ]
  },
  {
   "cell_type": "code",
   "execution_count": 151,
   "metadata": {},
   "outputs": [
    {
     "name": "stdout",
     "output_type": "stream",
     "text": [
      "Logistic Regression\n",
      "Recall : 0.7159 ; Accuracy : 0.7571 ; ROC AUC : 0.7939\n",
      "SVC\n",
      "Recall : 0.6818 ; Accuracy : 0.7232 ; ROC AUC : 0.8145\n",
      "K-Neighbors Classifier\n",
      "Recall : 0.6705 ; Accuracy : 0.6949 ; ROC AUC : 0.7515\n",
      "Decision Tree\n",
      "Recall : 0.5985 ; Accuracy : 0.6911 ; ROC AUC : 0.6906\n",
      "Random Forest\n",
      "Recall : 0.6629 ; Accuracy : 0.7213 ; ROC AUC : 0.8264\n",
      "Gaussian Naive Bayes\n",
      "Recall : 0.7045 ; Accuracy : 0.7797 ; ROC AUC : 0.8347\n",
      "XGBClassifier\n",
      "Recall : 0.6364 ; Accuracy : 0.7119 ; ROC AUC : 0.8361\n"
     ]
    }
   ],
   "source": [
    "# UNDERSAMPLING \n",
    "training_models(model_pipeline, X_train_un, y_train_un, X_test_un, y_test_un)"
   ]
  },
  {
   "cell_type": "code",
   "execution_count": 106,
   "metadata": {},
   "outputs": [
    {
     "data": {
      "text/plain": [
       "SVC(probability=True)"
      ]
     },
     "execution_count": 106,
     "metadata": {},
     "output_type": "execute_result"
    }
   ],
   "source": [
    "model = SVC(probability=True)\n",
    "model.fit(X_train, y_train)"
   ]
  },
  {
   "cell_type": "code",
   "execution_count": 107,
   "metadata": {},
   "outputs": [
    {
     "data": {
      "text/plain": [
       "array([[0.06078994, 0.93921006],\n",
       "       [0.85586088, 0.14413912],\n",
       "       [0.88451751, 0.11548249],\n",
       "       [0.22175784, 0.77824216],\n",
       "       [0.82639558, 0.17360442],\n",
       "       [0.92433982, 0.07566018],\n",
       "       [0.35340077, 0.64659923],\n",
       "       [0.12224705, 0.87775295],\n",
       "       [0.73327153, 0.26672847],\n",
       "       [0.74371657, 0.25628343],\n",
       "       [0.34925359, 0.65074641],\n",
       "       [0.06459462, 0.93540538],\n",
       "       [0.77141419, 0.22858581],\n",
       "       [0.9219159 , 0.0780841 ],\n",
       "       [0.86043085, 0.13956915],\n",
       "       [0.80671801, 0.19328199],\n",
       "       [0.11559293, 0.88440707],\n",
       "       [0.90426441, 0.09573559],\n",
       "       [0.56165961, 0.43834039],\n",
       "       [0.85713517, 0.14286483],\n",
       "       [0.42072   , 0.57928   ],\n",
       "       [0.72001714, 0.27998286],\n",
       "       [0.78385123, 0.21614877],\n",
       "       [0.84873734, 0.15126266],\n",
       "       [0.91945582, 0.08054418],\n",
       "       [0.64062586, 0.35937414],\n",
       "       [0.87825   , 0.12175   ],\n",
       "       [0.28636201, 0.71363799],\n",
       "       [0.80074538, 0.19925462],\n",
       "       [0.82204687, 0.17795313],\n",
       "       [0.56075449, 0.43924551],\n",
       "       [0.81779533, 0.18220467],\n",
       "       [0.89729367, 0.10270633],\n",
       "       [0.67164542, 0.32835458],\n",
       "       [0.83639043, 0.16360957],\n",
       "       [0.24843675, 0.75156325],\n",
       "       [0.5622993 , 0.4377007 ],\n",
       "       [0.86078127, 0.13921873],\n",
       "       [0.69446965, 0.30553035],\n",
       "       [0.15447543, 0.84552457],\n",
       "       [0.80153481, 0.19846519],\n",
       "       [0.84304071, 0.15695929],\n",
       "       [0.88289087, 0.11710913],\n",
       "       [0.08891362, 0.91108638],\n",
       "       [0.10568665, 0.89431335],\n",
       "       [0.9069663 , 0.0930337 ],\n",
       "       [0.86353182, 0.13646818],\n",
       "       [0.72650438, 0.27349562],\n",
       "       [0.80116792, 0.19883208],\n",
       "       [0.7188059 , 0.2811941 ],\n",
       "       [0.64423224, 0.35576776],\n",
       "       [0.83856653, 0.16143347],\n",
       "       [0.34879026, 0.65120974],\n",
       "       [0.5133642 , 0.4866358 ],\n",
       "       [0.88271755, 0.11728245],\n",
       "       [0.79351478, 0.20648522],\n",
       "       [0.86369063, 0.13630937],\n",
       "       [0.66659056, 0.33340944],\n",
       "       [0.66316359, 0.33683641],\n",
       "       [0.78747006, 0.21252994],\n",
       "       [0.16851199, 0.83148801],\n",
       "       [0.50871703, 0.49128297],\n",
       "       [0.76404659, 0.23595341],\n",
       "       [0.45428574, 0.54571426],\n",
       "       [0.17822362, 0.82177638],\n",
       "       [0.10435321, 0.89564679],\n",
       "       [0.29991046, 0.70008954],\n",
       "       [0.76783734, 0.23216266],\n",
       "       [0.78421533, 0.21578467],\n",
       "       [0.85885763, 0.14114237],\n",
       "       [0.82274951, 0.17725049],\n",
       "       [0.65511201, 0.34488799],\n",
       "       [0.8359982 , 0.1640018 ],\n",
       "       [0.13826415, 0.86173585],\n",
       "       [0.19876722, 0.80123278],\n",
       "       [0.62079655, 0.37920345],\n",
       "       [0.88325407, 0.11674593],\n",
       "       [0.34017706, 0.65982294],\n",
       "       [0.86958099, 0.13041901],\n",
       "       [0.77055696, 0.22944304],\n",
       "       [0.79445008, 0.20554992],\n",
       "       [0.53993667, 0.46006333],\n",
       "       [0.83735635, 0.16264365],\n",
       "       [0.92861941, 0.07138059],\n",
       "       [0.79760512, 0.20239488],\n",
       "       [0.83077336, 0.16922664],\n",
       "       [0.61623727, 0.38376273],\n",
       "       [0.74268618, 0.25731382],\n",
       "       [0.09888337, 0.90111663],\n",
       "       [0.87577991, 0.12422009],\n",
       "       [0.68413341, 0.31586659],\n",
       "       [0.71922537, 0.28077463],\n",
       "       [0.84483162, 0.15516838],\n",
       "       [0.92348668, 0.07651332],\n",
       "       [0.23774546, 0.76225454],\n",
       "       [0.82252389, 0.17747611],\n",
       "       [0.8430973 , 0.1569027 ],\n",
       "       [0.40432379, 0.59567621],\n",
       "       [0.6432807 , 0.3567193 ],\n",
       "       [0.76648466, 0.23351534],\n",
       "       [0.77250666, 0.22749334],\n",
       "       [0.9092859 , 0.0907141 ],\n",
       "       [0.78301732, 0.21698268],\n",
       "       [0.91866962, 0.08133038],\n",
       "       [0.5508604 , 0.4491396 ],\n",
       "       [0.8058615 , 0.1941385 ],\n",
       "       [0.78671479, 0.21328521],\n",
       "       [0.54057589, 0.45942411],\n",
       "       [0.92101689, 0.07898311],\n",
       "       [0.1825914 , 0.8174086 ],\n",
       "       [0.88032926, 0.11967074],\n",
       "       [0.77067508, 0.22932492],\n",
       "       [0.48439789, 0.51560211],\n",
       "       [0.69255796, 0.30744204],\n",
       "       [0.16503463, 0.83496537],\n",
       "       [0.34263608, 0.65736392],\n",
       "       [0.86787846, 0.13212154],\n",
       "       [0.15871693, 0.84128307],\n",
       "       [0.80209402, 0.19790598],\n",
       "       [0.60050493, 0.39949507],\n",
       "       [0.66693259, 0.33306741],\n",
       "       [0.67109394, 0.32890606],\n",
       "       [0.75114277, 0.24885723],\n",
       "       [0.66740127, 0.33259873],\n",
       "       [0.64099486, 0.35900514],\n",
       "       [0.89079301, 0.10920699],\n",
       "       [0.73651743, 0.26348257],\n",
       "       [0.71319092, 0.28680908],\n",
       "       [0.58379704, 0.41620296],\n",
       "       [0.29756383, 0.70243617],\n",
       "       [0.58514072, 0.41485928],\n",
       "       [0.83494909, 0.16505091],\n",
       "       [0.87727814, 0.12272186],\n",
       "       [0.14644809, 0.85355191],\n",
       "       [0.86566387, 0.13433613],\n",
       "       [0.74311474, 0.25688526],\n",
       "       [0.79478909, 0.20521091],\n",
       "       [0.74085274, 0.25914726],\n",
       "       [0.45667788, 0.54332212],\n",
       "       [0.76118472, 0.23881528],\n",
       "       [0.90476773, 0.09523227],\n",
       "       [0.36735189, 0.63264811],\n",
       "       [0.8537501 , 0.1462499 ],\n",
       "       [0.8832413 , 0.1167587 ],\n",
       "       [0.74976708, 0.25023292],\n",
       "       [0.86106566, 0.13893434],\n",
       "       [0.89701109, 0.10298891],\n",
       "       [0.85492293, 0.14507707],\n",
       "       [0.85469307, 0.14530693],\n",
       "       [0.81452594, 0.18547406],\n",
       "       [0.90866335, 0.09133665],\n",
       "       [0.5       , 0.5       ],\n",
       "       [0.85631261, 0.14368739],\n",
       "       [0.86265562, 0.13734438],\n",
       "       [0.32707955, 0.67292045],\n",
       "       [0.84055382, 0.15944618],\n",
       "       [0.22986479, 0.77013521],\n",
       "       [0.87006705, 0.12993295],\n",
       "       [0.61966155, 0.38033845],\n",
       "       [0.34646883, 0.65353117],\n",
       "       [0.28502977, 0.71497023],\n",
       "       [0.12110588, 0.87889412],\n",
       "       [0.94011431, 0.05988569],\n",
       "       [0.80048153, 0.19951847],\n",
       "       [0.16089294, 0.83910706],\n",
       "       [0.64339921, 0.35660079],\n",
       "       [0.86337743, 0.13662257],\n",
       "       [0.82250167, 0.17749833],\n",
       "       [0.70758923, 0.29241077],\n",
       "       [0.82104821, 0.17895179],\n",
       "       [0.8650061 , 0.1349939 ],\n",
       "       [0.87274158, 0.12725842],\n",
       "       [0.8199588 , 0.1800412 ],\n",
       "       [0.7922774 , 0.2077226 ],\n",
       "       [0.47016751, 0.52983249],\n",
       "       [0.89949261, 0.10050739],\n",
       "       [0.79558729, 0.20441271],\n",
       "       [0.87307105, 0.12692895],\n",
       "       [0.86536647, 0.13463353],\n",
       "       [0.85882633, 0.14117367],\n",
       "       [0.83223533, 0.16776467],\n",
       "       [0.31989828, 0.68010172],\n",
       "       [0.90050404, 0.09949596],\n",
       "       [0.11800393, 0.88199607],\n",
       "       [0.62883369, 0.37116631],\n",
       "       [0.89673578, 0.10326422],\n",
       "       [0.47514997, 0.52485003],\n",
       "       [0.73888709, 0.26111291],\n",
       "       [0.51674971, 0.48325029],\n",
       "       [0.88042439, 0.11957561],\n",
       "       [0.71100053, 0.28899947],\n",
       "       [0.84622998, 0.15377002],\n",
       "       [0.88346712, 0.11653288],\n",
       "       [0.77551628, 0.22448372],\n",
       "       [0.87236393, 0.12763607],\n",
       "       [0.40259959, 0.59740041],\n",
       "       [0.36857626, 0.63142374],\n",
       "       [0.44039115, 0.55960885],\n",
       "       [0.85741401, 0.14258599],\n",
       "       [0.80218325, 0.19781675],\n",
       "       [0.86902991, 0.13097009],\n",
       "       [0.67823611, 0.32176389],\n",
       "       [0.84985692, 0.15014308],\n",
       "       [0.59920958, 0.40079042],\n",
       "       [0.73345624, 0.26654376],\n",
       "       [0.90646962, 0.09353038],\n",
       "       [0.7939289 , 0.2060711 ],\n",
       "       [0.82371394, 0.17628606],\n",
       "       [0.48082293, 0.51917707],\n",
       "       [0.82770797, 0.17229203],\n",
       "       [0.8692775 , 0.1307225 ],\n",
       "       [0.90354623, 0.09645377],\n",
       "       [0.77983691, 0.22016309],\n",
       "       [0.5       , 0.5       ],\n",
       "       [0.83353538, 0.16646462],\n",
       "       [0.81790199, 0.18209801],\n",
       "       [0.76240023, 0.23759977],\n",
       "       [0.5798311 , 0.4201689 ],\n",
       "       [0.34419088, 0.65580912],\n",
       "       [0.76509936, 0.23490064],\n",
       "       [0.85114519, 0.14885481],\n",
       "       [0.86632693, 0.13367307],\n",
       "       [0.64014871, 0.35985129],\n",
       "       [0.47711032, 0.52288968],\n",
       "       [0.35168039, 0.64831961],\n",
       "       [0.44309957, 0.55690043],\n",
       "       [0.84280733, 0.15719267],\n",
       "       [0.82862426, 0.17137574],\n",
       "       [0.91531934, 0.08468066],\n",
       "       [0.80667908, 0.19332092],\n",
       "       [0.66376815, 0.33623185],\n",
       "       [0.35058291, 0.64941709],\n",
       "       [0.91298092, 0.08701908],\n",
       "       [0.6606172 , 0.3393828 ],\n",
       "       [0.40586561, 0.59413439],\n",
       "       [0.66415037, 0.33584963],\n",
       "       [0.81537584, 0.18462416],\n",
       "       [0.25613285, 0.74386715],\n",
       "       [0.83174291, 0.16825709],\n",
       "       [0.15082131, 0.84917869],\n",
       "       [0.83031569, 0.16968431],\n",
       "       [0.52720975, 0.47279025],\n",
       "       [0.79395597, 0.20604403],\n",
       "       [0.7618975 , 0.2381025 ],\n",
       "       [0.85210446, 0.14789554],\n",
       "       [0.78467929, 0.21532071],\n",
       "       [0.85094719, 0.14905281],\n",
       "       [0.56088677, 0.43911323],\n",
       "       [0.78970279, 0.21029721],\n",
       "       [0.36116001, 0.63883999],\n",
       "       [0.76862218, 0.23137782],\n",
       "       [0.42039965, 0.57960035],\n",
       "       [0.92744339, 0.07255661],\n",
       "       [0.6043748 , 0.3956252 ]])"
      ]
     },
     "execution_count": 107,
     "metadata": {},
     "output_type": "execute_result"
    }
   ],
   "source": [
    "model.predict_proba(X_test)"
   ]
  },
  {
   "cell_type": "code",
   "execution_count": 152,
   "metadata": {},
   "outputs": [
    {
     "name": "stdout",
     "output_type": "stream",
     "text": [
      "Logistic Regression\n",
      "Recall : 0.7914 ; Accuracy : 0.7758 ; ROC AUC : 0.8326\n",
      "SVC\n",
      "Recall : 0.7178 ; Accuracy : 0.698 ; ROC AUC : 0.8094\n",
      "K-Neighbors Classifier\n",
      "Recall : 0.7914 ; Accuracy : 0.7273 ; ROC AUC : 0.8097\n",
      "Decision Tree\n",
      "Recall : 0.8773 ; Accuracy : 0.8323 ; ROC AUC : 0.8329\n",
      "Random Forest\n",
      "Recall : 0.9018 ; Accuracy : 0.8596 ; ROC AUC : 0.9469\n",
      "Gaussian Naive Bayes\n",
      "Recall : 0.6503 ; Accuracy : 0.7333 ; ROC AUC : 0.8199\n",
      "XGBClassifier\n",
      "Recall : 0.8712 ; Accuracy : 0.8394 ; ROC AUC : 0.8944\n"
     ]
    }
   ],
   "source": [
    "# OVERSAMPLING \n",
    "training_models(model_pipeline, X_train_ov, y_train_ov, X_test_ov, y_test_ov)"
   ]
  },
  {
   "cell_type": "code",
   "execution_count": 153,
   "metadata": {},
   "outputs": [],
   "source": [
    "X_train_rus, X_test_rus, y_train_rus, y_test_rus = train_test_split(x_rus, y_rus, test_size = 0.33, random_state = 0)"
   ]
  },
  {
   "cell_type": "code",
   "execution_count": 158,
   "metadata": {},
   "outputs": [
    {
     "data": {
      "text/plain": [
       "(177,)"
      ]
     },
     "execution_count": 158,
     "metadata": {},
     "output_type": "execute_result"
    }
   ],
   "source": [
    " y_test_rus.shape"
   ]
  },
  {
   "cell_type": "code",
   "execution_count": 159,
   "metadata": {},
   "outputs": [
    {
     "name": "stdout",
     "output_type": "stream",
     "text": [
      "Logistic Regression\n",
      "Recall : 0.7045 ; Accuracy : 0.7345 ; ROC AUC : 0.8036\n",
      "SVC\n",
      "Recall : 0.6932 ; Accuracy : 0.6893 ; ROC AUC : 0.788\n",
      "K-Neighbors Classifier\n",
      "Recall : 0.7159 ; Accuracy : 0.678 ; ROC AUC : 0.766\n",
      "Decision Tree\n",
      "Recall : 0.7008 ; Accuracy : 0.7533 ; ROC AUC : 0.753\n",
      "Random Forest\n",
      "Recall : 0.7008 ; Accuracy : 0.7646 ; ROC AUC : 0.8481\n",
      "Gaussian Naive Bayes\n",
      "Recall : 0.6932 ; Accuracy : 0.7345 ; ROC AUC : 0.8018\n",
      "XGBClassifier\n",
      "Recall : 0.7273 ; Accuracy : 0.7571 ; ROC AUC : 0.8347\n"
     ]
    }
   ],
   "source": [
    "# Random UNDERSAMPLING \n",
    "training_models(model_pipeline, X_train_rus, y_train_rus, X_test_rus, y_test_rus)"
   ]
  },
  {
   "cell_type": "code",
   "execution_count": 160,
   "metadata": {},
   "outputs": [
    {
     "name": "stdout",
     "output_type": "stream",
     "text": [
      "Logistic Regression\n",
      "Recall : 0.7848 ; Accuracy : 0.7788 ; ROC AUC : 0.8631\n",
      "SVC\n",
      "Recall : 0.7215 ; Accuracy : 0.7242 ; ROC AUC : 0.8317\n",
      "K-Neighbors Classifier\n",
      "Recall : 0.8038 ; Accuracy : 0.7182 ; ROC AUC : 0.8127\n",
      "Decision Tree\n",
      "Recall : 0.8903 ; Accuracy : 0.8232 ; ROC AUC : 0.826\n",
      "Random Forest\n",
      "Recall : 0.903 ; Accuracy : 0.8505 ; ROC AUC : 0.9521\n",
      "Gaussian Naive Bayes\n",
      "Recall : 0.7152 ; Accuracy : 0.7576 ; ROC AUC : 0.8361\n",
      "XGBClassifier\n",
      "Recall : 0.9177 ; Accuracy : 0.8424 ; ROC AUC : 0.9204\n"
     ]
    }
   ],
   "source": [
    "# Random OVERSAMPLING\n",
    "X_train_ros, X_test_ros, y_train_ros, y_test_ros = train_test_split(x_ros, y_ros, test_size = 0.33, random_state = 0)\n",
    "\n",
    "\n",
    "training_models(model_pipeline, X_train_ros, y_train_ros, X_test_ros, y_test_ros)"
   ]
  },
  {
   "cell_type": "code",
   "execution_count": 161,
   "metadata": {},
   "outputs": [
    {
     "name": "stdout",
     "output_type": "stream",
     "text": [
      "Logistic Regression\n",
      "Recall : 0.5729 ; Accuracy : 0.7754 ; ROC AUC : 0.8798\n",
      "SVC\n",
      "Recall : 0.5347 ; Accuracy : 0.7556 ; ROC AUC : 0.8548\n",
      "K-Neighbors Classifier\n",
      "Recall : 0.5833 ; Accuracy : 0.75 ; ROC AUC : 0.8067\n",
      "Decision Tree\n",
      "Recall : 0.6111 ; Accuracy : 0.7218 ; ROC AUC : 0.7044\n",
      "Random Forest\n",
      "Recall : 0.5972 ; Accuracy : 0.7754 ; ROC AUC : 0.8621\n",
      "Gaussian Naive Bayes\n",
      "Recall : 0.6562 ; Accuracy : 0.7669 ; ROC AUC : 0.8499\n",
      "XGBClassifier\n",
      "Recall : 0.5729 ; Accuracy : 0.7585 ; ROC AUC : 0.8536\n"
     ]
    }
   ],
   "source": [
    "#Tomek Links\n",
    "X_train_tl1, X_test_tl1, y_train_tl1, y_test_tl1 = train_test_split(x_tl_maj, y_tl_maj, test_size = 0.33, random_state = 0)\n",
    "\n",
    "training_models(model_pipeline, X_train_tl1, y_train_tl1, X_test_tl1, y_test_tl1)"
   ]
  },
  {
   "cell_type": "code",
   "execution_count": 162,
   "metadata": {},
   "outputs": [
    {
     "name": "stdout",
     "output_type": "stream",
     "text": [
      "Logistic Regression\n",
      "Recall : 0.6119 ; Accuracy : 0.8165 ; ROC AUC : 0.8665\n",
      "SVC\n",
      "Recall : 0.5672 ; Accuracy : 0.8028 ; ROC AUC : 0.8538\n",
      "K-Neighbors Classifier\n",
      "Recall : 0.5821 ; Accuracy : 0.7936 ; ROC AUC : 0.8292\n",
      "Decision Tree\n",
      "Recall : 0.6169 ; Accuracy : 0.7554 ; ROC AUC : 0.7168\n",
      "Random Forest\n",
      "Recall : 0.6617 ; Accuracy : 0.815 ; ROC AUC : 0.8557\n",
      "Gaussian Naive Bayes\n",
      "Recall : 0.6716 ; Accuracy : 0.7798 ; ROC AUC : 0.843\n",
      "XGBClassifier\n",
      "Recall : 0.6866 ; Accuracy : 0.8119 ; ROC AUC : 0.8684\n"
     ]
    }
   ],
   "source": [
    "#Tomek Links 2\n",
    "X_train_tl2, X_test_tl2, y_train_tl2, y_test_tl2 = train_test_split(x_tl_all, y_tl_all, test_size = 0.33, random_state = 0)\n",
    "\n",
    "training_models(model_pipeline, X_train_tl2, y_train_tl2, X_test_tl2, y_test_tl2)"
   ]
  },
  {
   "cell_type": "code",
   "execution_count": 163,
   "metadata": {},
   "outputs": [
    {
     "name": "stdout",
     "output_type": "stream",
     "text": [
      "Logistic Regression\n",
      "Recall : 0.6364 ; Accuracy : 0.661 ; ROC AUC : 0.7097\n",
      "SVC\n",
      "Recall : 0.5644 ; Accuracy : 0.6516 ; ROC AUC : 0.7068\n",
      "K-Neighbors Classifier\n",
      "Recall : 0.5568 ; Accuracy : 0.6045 ; ROC AUC : 0.5878\n",
      "Decision Tree\n",
      "Recall : 0.5833 ; Accuracy : 0.6215 ; ROC AUC : 0.6213\n",
      "Random Forest\n",
      "Recall : 0.5644 ; Accuracy : 0.6196 ; ROC AUC : 0.7031\n",
      "Gaussian Naive Bayes\n",
      "Recall : 0.6023 ; Accuracy : 0.6667 ; ROC AUC : 0.7072\n",
      "XGBClassifier\n",
      "Recall : 0.5795 ; Accuracy : 0.6441 ; ROC AUC : 0.7026\n"
     ]
    }
   ],
   "source": [
    "#Near Miss 1\n",
    "X_train_nm, X_test_nm, y_train_nm, y_test_nm = train_test_split(x_nm_3, y_nm_3, test_size = 0.33, random_state = 0)\n",
    "\n",
    "training_models(model_pipeline, X_train_nm, y_train_nm, X_test_nm, y_test_nm)"
   ]
  },
  {
   "cell_type": "code",
   "execution_count": 164,
   "metadata": {},
   "outputs": [
    {
     "name": "stdout",
     "output_type": "stream",
     "text": [
      "Logistic Regression\n",
      "Recall : 0.7532 ; Accuracy : 0.7667 ; ROC AUC : 0.8569\n",
      "SVC\n",
      "Recall : 0.7658 ; Accuracy : 0.7485 ; ROC AUC : 0.8349\n",
      "K-Neighbors Classifier\n",
      "Recall : 0.8165 ; Accuracy : 0.7242 ; ROC AUC : 0.8079\n",
      "Decision Tree\n",
      "Recall : 0.7489 ; Accuracy : 0.7404 ; ROC AUC : 0.7408\n",
      "Random Forest\n",
      "Recall : 0.9156 ; Accuracy : 0.8606 ; ROC AUC : 0.9342\n",
      "Gaussian Naive Bayes\n",
      "Recall : 0.7089 ; Accuracy : 0.7576 ; ROC AUC : 0.832\n",
      "XGBClassifier\n",
      "Recall : 0.8797 ; Accuracy : 0.8273 ; ROC AUC : 0.9133\n"
     ]
    }
   ],
   "source": [
    "#SMOTE\n",
    "X_train_s, X_test_s, y_train_s, y_test_s = train_test_split(x_smote, y_smote, test_size = 0.33, random_state = 0)\n",
    "\n",
    "training_models(model_pipeline, X_train_s, y_train_s, X_test_s, y_test_s)"
   ]
  },
  {
   "cell_type": "code",
   "execution_count": 165,
   "metadata": {},
   "outputs": [
    {
     "name": "stdout",
     "output_type": "stream",
     "text": [
      "Logistic Regression\n",
      "Recall : 0.699 ; Accuracy : 0.7444 ; ROC AUC : 0.8326\n",
      "SVC\n",
      "Recall : 0.6764 ; Accuracy : 0.7354 ; ROC AUC : 0.8095\n",
      "K-Neighbors Classifier\n",
      "Recall : 0.6893 ; Accuracy : 0.6816 ; ROC AUC : 0.7554\n",
      "Decision Tree\n",
      "Recall : 0.7735 ; Accuracy : 0.7294 ; ROC AUC : 0.7326\n",
      "Random Forest\n",
      "Recall : 0.7638 ; Accuracy : 0.7474 ; ROC AUC : 0.8218\n",
      "Gaussian Naive Bayes\n",
      "Recall : 0.6893 ; Accuracy : 0.7265 ; ROC AUC : 0.7981\n",
      "XGBClassifier\n",
      "Recall : 0.7476 ; Accuracy : 0.7309 ; ROC AUC : 0.8132\n"
     ]
    }
   ],
   "source": [
    "#SMOTE\n",
    "X_train_pip, X_test_pip, y_train_pip, y_test_pip = train_test_split(x_pip, y_pip, test_size = 0.33, random_state = 0)\n",
    "\n",
    "training_models(model_pipeline, X_train_pip, y_train_pip, X_test_pip, y_test_pip)"
   ]
  }
 ],
 "metadata": {
  "kernelspec": {
   "display_name": "Python 3",
   "language": "python",
   "name": "python3"
  },
  "language_info": {
   "codemirror_mode": {
    "name": "ipython",
    "version": 3
   },
   "file_extension": ".py",
   "mimetype": "text/x-python",
   "name": "python",
   "nbconvert_exporter": "python",
   "pygments_lexer": "ipython3",
   "version": "3.6.8"
  }
 },
 "nbformat": 4,
 "nbformat_minor": 4
}
